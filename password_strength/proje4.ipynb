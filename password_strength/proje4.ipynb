{
 "cells": [
  {
   "cell_type": "markdown",
   "metadata": {},
   "source": [
    "#Password Strength Checker with Machine Learning\n",
    "# https://thecleverprogrammer.com/2022/08/22/password-strength-checker-with-machine-learning/#google_vignette\n",
    "#Password Strength Checker, bir parolanın ne kadar güçlü olduğunu kontrol eden bir projedir.\n",
    "Bir parola güç denetleyicisi, parolanızda kullandığınız rakamların, harflerin ve özel sembollerin birleşimini anlayarak çalışır."
   ]
  },
  {
   "cell_type": "code",
   "execution_count": 2,
   "metadata": {},
   "outputs": [],
   "source": [
    "#Gerekli kütüphaneleri import edelim.\n",
    "\n",
    "import pandas as pd\n",
    "import numpy as np\n",
    "from sklearn.feature_extraction.text import CountVectorizer\n",
    "from sklearn.feature_extraction.text import TfidfVectorizer\n",
    "from sklearn.model_selection import train_test_split\n",
    "from sklearn.ensemble import RandomForestClassifier"
   ]
  },
  {
   "cell_type": "code",
   "execution_count": 3,
   "metadata": {},
   "outputs": [
    {
     "name": "stdout",
     "output_type": "stream",
     "text": [
      "Path to dataset files: C:\\Users\\Asus\\.cache\\kagglehub\\datasets\\bhavikbb\\password-strength-classifier-dataset\\versions\\1\n"
     ]
    }
   ],
   "source": [
    "import kagglehub\n",
    "\n",
    "# Download latest version\n",
    "path = kagglehub.dataset_download(\"bhavikbb/password-strength-classifier-dataset\")\n",
    "\n",
    "print(\"Path to dataset files:\", path)"
   ]
  },
  {
   "cell_type": "code",
   "execution_count": 4,
   "metadata": {},
   "outputs": [
    {
     "name": "stdout",
     "output_type": "stream",
     "text": [
      "      password  strength\n",
      "0     kzde5577         1\n",
      "1     kino3434         1\n",
      "2    visi7k1yr         1\n",
      "3     megzy123         1\n",
      "4  lamborghin1         1\n"
     ]
    }
   ],
   "source": [
    "#Veri setini okuyalım.\n",
    "data = pd.read_csv(\"C:/Users/Asus/.cache/kagglehub/datasets/bhavikbb/password-strength-classifier-dataset/versions/1/data.csv\",\n",
    "                    on_bad_lines='skip')\n",
    "print(data.head())"
   ]
  },
  {
   "cell_type": "markdown",
   "metadata": {},
   "source": [
    "0 şu anlama gelir: şifrenin gücü zayıftır.\n",
    "1 şu anlama gelir: şifrenin gücü orta düzeydedir.\n",
    "2 şu anlama gelir: şifrenin gücü kuvvetlidir."
   ]
  },
  {
   "cell_type": "code",
   "execution_count": 5,
   "metadata": {},
   "outputs": [
    {
     "name": "stdout",
     "output_type": "stream",
     "text": [
      "                password strength\n",
      "407399  Zco435Tg0OQORYxt   Strong\n",
      "433756         thewoman1   Medium\n",
      "377394         a8767319a   Medium\n",
      "292706   Tabulation18583   Strong\n",
      "274917       kk297118447   Medium\n"
     ]
    }
   ],
   "source": [
    "# strength sütunundaki 0, 1 ve 2 değerlerini zayıf, orta ve güçlü olarak dönüştürelim.\n",
    "\n",
    "data = data.dropna()\n",
    "data[\"strength\"] = data[\"strength\"].map({0: \"Weak\", \n",
    "                                         1: \"Medium\",\n",
    "                                         2: \"Strong\"})\n",
    "\n",
    "#veri kümesinden rastgele 5 örnek alalım ve ekrana yazdıralım.\n",
    "print(data.sample(5))"
   ]
  },
  {
   "cell_type": "code",
   "execution_count": 6,
   "metadata": {},
   "outputs": [
    {
     "name": "stderr",
     "output_type": "stream",
     "text": [
      "c:\\Users\\Asus\\anaconda3\\Lib\\site-packages\\sklearn\\feature_extraction\\text.py:521: UserWarning: The parameter 'token_pattern' will not be used since 'tokenizer' is not None'\n",
      "  warnings.warn(\n"
     ]
    }
   ],
   "source": [
    "#word(password) fonksiyonu, bir şifreyi karakterlerine ayıran bir liste oluşturur.\n",
    "def word(password):\n",
    "    character=[]\n",
    "    for i in password:\n",
    "        character.append(i)\n",
    "    return character\n",
    "\n",
    "#x ve y değişkenleri, şifreler ve güçlerini içerir.  \n",
    "x = np.array(data[\"password\"])\n",
    "y = np.array(data[\"strength\"])\n",
    "\n",
    "#TfidfVectorizer(tokenizer=word) ile her şifreyi bir token listesine dönüştürür.\n",
    "tdif = TfidfVectorizer(tokenizer=word)\n",
    "\n",
    "#fit_transform(x) ile şifre verilerini TF-IDF vektörlerine dönüştürür.\n",
    "x = tdif.fit_transform(x)\n",
    "xtrain, xtest, ytrain, ytest = train_test_split(x, y, \n",
    "                                                test_size=0.05, \n",
    "                                                random_state=42)"
   ]
  },
  {
   "cell_type": "code",
   "execution_count": null,
   "metadata": {},
   "outputs": [],
   "source": [
    "model = RandomForestClassifier()\n",
    "model.fit(xtrain, ytrain)\n",
    "print(model.score(xtest, ytest))"
   ]
  },
  {
   "cell_type": "code",
   "execution_count": null,
   "metadata": {},
   "outputs": [],
   "source": [
    "#Şimdi eğitilmiş modeli kullanarak bir parolanın gücünü nasıl kontrol edebileceğimizi görelim.\n",
    "\n",
    "import getpass\n",
    "user = getpass.getpass(\"Enter Password: \")\n",
    "data = tdif.transform([user]).toarray()\n",
    "output = model.predict(data)\n",
    "print(output)"
   ]
  }
 ],
 "metadata": {
  "kernelspec": {
   "display_name": "base",
   "language": "python",
   "name": "python3"
  },
  "language_info": {
   "codemirror_mode": {
    "name": "ipython",
    "version": 3
   },
   "file_extension": ".py",
   "mimetype": "text/x-python",
   "name": "python",
   "nbconvert_exporter": "python",
   "pygments_lexer": "ipython3",
   "version": "3.11.7"
  }
 },
 "nbformat": 4,
 "nbformat_minor": 2
}
